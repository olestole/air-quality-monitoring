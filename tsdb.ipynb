{
 "cells": [
  {
   "cell_type": "code",
   "execution_count": 8,
   "metadata": {},
   "outputs": [],
   "source": [
    "from influxdb_client import InfluxDBClient, Point, WriteOptions"
   ]
  },
  {
   "cell_type": "markdown",
   "metadata": {},
   "source": [
    "### MQTT"
   ]
  },
  {
   "cell_type": "code",
   "execution_count": 22,
   "metadata": {},
   "outputs": [
    {
     "data": {
      "text/plain": [
       "0"
      ]
     },
     "execution_count": 22,
     "metadata": {},
     "output_type": "execute_result"
    }
   ],
   "source": [
    "import paho.mqtt.client as mqtt\n",
    "\n",
    "mqtt_username = \"mosquitto\"\n",
    "mqtt_password = \"mosquitto\"\n",
    "mqtt_host = \"18.170.70.157\"\n",
    "mqtt_port = 1883\n",
    "\n",
    "topic = \"test\"\n",
    "\n",
    "# The callback for when the client receives a CONNACK response from the server.\n",
    "def on_connect(client, userdata, flags, rc):\n",
    "    print(\"Connected with result code \"+str(rc))\n",
    "    client.subscribe(topic)\n",
    "\n",
    "# The callback for when a PUBLISH message is received from the server.\n",
    "def on_message(client, userdata, msg):\n",
    "    # print(msg.topic+\" \"+str(msg.payload))\n",
    "    print(str(msg.payload.decode('utf-8')))\n",
    "\n",
    "    # TODO: Take these values and write them to InfluxDB\n",
    "\n",
    "def on_publish(client, userdata, mid):\n",
    "    print(\"mid: \"+str(mid))\n",
    "\n",
    "mqtt_client = mqtt.Client()\n",
    "mqtt_client.on_connect = on_connect\n",
    "mqtt_client.on_message = on_message\n",
    "mqtt_client.on_publish = on_publish\n",
    "\n",
    "mqtt_client.username_pw_set(username=mqtt_username, password=mqtt_password)\n",
    "mqtt_client.connect(mqtt_host, mqtt_port, 60)\n",
    "\n",
    "# mqtt_client.loop_start()"
   ]
  },
  {
   "cell_type": "code",
   "execution_count": 10,
   "metadata": {},
   "outputs": [
    {
     "name": "stdout",
     "output_type": "stream",
     "text": [
      "mid: 1\n"
     ]
    },
    {
     "data": {
      "text/plain": [
       "<paho.mqtt.client.MQTTMessageInfo at 0x1098f98f0>"
      ]
     },
     "execution_count": 10,
     "metadata": {},
     "output_type": "execute_result"
    }
   ],
   "source": [
    "mqtt_client.publish(\"sensor/123/987/temp\", 15.20232, qos=0)\n"
   ]
  },
  {
   "cell_type": "code",
   "execution_count": 24,
   "metadata": {},
   "outputs": [
    {
     "name": "stdout",
     "output_type": "stream",
     "text": [
      "mid: 2\n"
     ]
    },
    {
     "data": {
      "text/plain": [
       "<paho.mqtt.client.MQTTMessageInfo at 0x1098f9ef0>"
      ]
     },
     "execution_count": 24,
     "metadata": {},
     "output_type": "execute_result"
    }
   ],
   "source": [
    "mqtt_client.publish(\"external/change_protocol\", 1, qos=0)\n"
   ]
  },
  {
   "cell_type": "code",
   "execution_count": 126,
   "metadata": {},
   "outputs": [
    {
     "name": "stdout",
     "output_type": "stream",
     "text": [
      "mid: 4\n",
      "mid: 5\n"
     ]
    },
    {
     "ename": "KeyboardInterrupt",
     "evalue": "",
     "output_type": "error",
     "traceback": [
      "\u001b[0;31m---------------------------------------------------------------------------\u001b[0m",
      "\u001b[0;31mKeyboardInterrupt\u001b[0m                         Traceback (most recent call last)",
      "\u001b[0;32m/var/folders/vn/xw7vy4yj4p59wc8lpy7gnh200000gn/T/ipykernel_16544/1468372504.py\u001b[0m in \u001b[0;36m<module>\u001b[0;34m\u001b[0m\n\u001b[0;32m----> 1\u001b[0;31m \u001b[0mmqtt_client\u001b[0m\u001b[0;34m.\u001b[0m\u001b[0mloop_forever\u001b[0m\u001b[0;34m(\u001b[0m\u001b[0;34m)\u001b[0m\u001b[0;34m\u001b[0m\u001b[0;34m\u001b[0m\u001b[0m\n\u001b[0m",
      "\u001b[0;32m~/code/unibo/iot/timeseries-influx/venv/lib/python3.7/site-packages/paho/mqtt/client.py\u001b[0m in \u001b[0;36mloop_forever\u001b[0;34m(self, timeout, max_packets, retry_first_connection)\u001b[0m\n\u001b[1;32m   1754\u001b[0m             \u001b[0mrc\u001b[0m \u001b[0;34m=\u001b[0m \u001b[0mMQTT_ERR_SUCCESS\u001b[0m\u001b[0;34m\u001b[0m\u001b[0;34m\u001b[0m\u001b[0m\n\u001b[1;32m   1755\u001b[0m             \u001b[0;32mwhile\u001b[0m \u001b[0mrc\u001b[0m \u001b[0;34m==\u001b[0m \u001b[0mMQTT_ERR_SUCCESS\u001b[0m\u001b[0;34m:\u001b[0m\u001b[0;34m\u001b[0m\u001b[0;34m\u001b[0m\u001b[0m\n\u001b[0;32m-> 1756\u001b[0;31m                 \u001b[0mrc\u001b[0m \u001b[0;34m=\u001b[0m \u001b[0mself\u001b[0m\u001b[0;34m.\u001b[0m\u001b[0m_loop\u001b[0m\u001b[0;34m(\u001b[0m\u001b[0mtimeout\u001b[0m\u001b[0;34m)\u001b[0m\u001b[0;34m\u001b[0m\u001b[0;34m\u001b[0m\u001b[0m\n\u001b[0m\u001b[1;32m   1757\u001b[0m                 \u001b[0;31m# We don't need to worry about locking here, because we've\u001b[0m\u001b[0;34m\u001b[0m\u001b[0;34m\u001b[0m\u001b[0;34m\u001b[0m\u001b[0m\n\u001b[1;32m   1758\u001b[0m                 \u001b[0;31m# either called loop_forever() when in single threaded mode, or\u001b[0m\u001b[0;34m\u001b[0m\u001b[0;34m\u001b[0m\u001b[0;34m\u001b[0m\u001b[0m\n",
      "\u001b[0;32m~/code/unibo/iot/timeseries-influx/venv/lib/python3.7/site-packages/paho/mqtt/client.py\u001b[0m in \u001b[0;36m_loop\u001b[0;34m(self, timeout)\u001b[0m\n\u001b[1;32m   1148\u001b[0m \u001b[0;34m\u001b[0m\u001b[0m\n\u001b[1;32m   1149\u001b[0m         \u001b[0;32mtry\u001b[0m\u001b[0;34m:\u001b[0m\u001b[0;34m\u001b[0m\u001b[0;34m\u001b[0m\u001b[0m\n\u001b[0;32m-> 1150\u001b[0;31m             \u001b[0msocklist\u001b[0m \u001b[0;34m=\u001b[0m \u001b[0mselect\u001b[0m\u001b[0;34m.\u001b[0m\u001b[0mselect\u001b[0m\u001b[0;34m(\u001b[0m\u001b[0mrlist\u001b[0m\u001b[0;34m,\u001b[0m \u001b[0mwlist\u001b[0m\u001b[0;34m,\u001b[0m \u001b[0;34m[\u001b[0m\u001b[0;34m]\u001b[0m\u001b[0;34m,\u001b[0m \u001b[0mtimeout\u001b[0m\u001b[0;34m)\u001b[0m\u001b[0;34m\u001b[0m\u001b[0;34m\u001b[0m\u001b[0m\n\u001b[0m\u001b[1;32m   1151\u001b[0m         \u001b[0;32mexcept\u001b[0m \u001b[0mTypeError\u001b[0m\u001b[0;34m:\u001b[0m\u001b[0;34m\u001b[0m\u001b[0;34m\u001b[0m\u001b[0m\n\u001b[1;32m   1152\u001b[0m             \u001b[0;31m# Socket isn't correct type, in likelihood connection is lost\u001b[0m\u001b[0;34m\u001b[0m\u001b[0;34m\u001b[0m\u001b[0;34m\u001b[0m\u001b[0m\n",
      "\u001b[0;31mKeyboardInterrupt\u001b[0m: "
     ]
    }
   ],
   "source": [
    "mqtt_client.loop_forever()"
   ]
  },
  {
   "cell_type": "markdown",
   "metadata": {},
   "source": [
    "### InfluxDB"
   ]
  },
  {
   "cell_type": "code",
   "execution_count": 10,
   "metadata": {},
   "outputs": [],
   "source": [
    "# org = \"iotclass\"\n",
    "# bucket = \"iotdemo\"\n",
    "# token = \"Pk9QK7njaI6nRUN287ig926Uw624co31OpfI5A6MyXUKLp_JRc-gQkIyp5IEzDpxoPxA7DogRGFLA0o80ELIVg==\" # Does it need $ in front of it?\n",
    "# host = \"130.136.2.70:9999\" # With or without http:/, or https://\n",
    "\n",
    "org = \"olestole\"\n",
    "bucket = \"testbucket\"\n",
    "token = \"luVwheaLHFYWzkIwd48ahXxx_rwuBwM29ixUxf09rRfXmCwX77hBjUOGyuEM3p-P0HUf2cdfYM1iaie-iGJJPw==\"\n",
    "host = \"localhost\" # With or without http:/, or https://\n",
    "port = \"8086\"\n",
    "url = f\"http://{host}:{port}\""
   ]
  },
  {
   "cell_type": "code",
   "execution_count": 11,
   "metadata": {},
   "outputs": [],
   "source": [
    "# Establish a connection\n",
    "client = InfluxDBClient(url=url, token=token, org=org)"
   ]
  },
  {
   "cell_type": "code",
   "execution_count": 33,
   "metadata": {},
   "outputs": [
    {
     "data": {
      "text/plain": [
       "{'checks': [],\n",
       " 'commit': 'a2f8538837',\n",
       " 'message': 'ready for queries and writes',\n",
       " 'name': 'influxdb',\n",
       " 'status': 'pass',\n",
       " 'version': 'v2.2.0'}"
      ]
     },
     "execution_count": 33,
     "metadata": {},
     "output_type": "execute_result"
    },
    {
     "name": "stdout",
     "output_type": "stream",
     "text": [
      "1432949 seconds\n",
      "2.25\n",
      "171.95\n",
      "169.70\n",
      "52.92\n",
      "6949.57\n",
      "1.13\n",
      "1.13\n",
      "0.71\n",
      "47.88\n",
      "47.17\n",
      "16.67\n",
      "1931.45\n",
      "0.36\n",
      "0.36\n",
      "17.00\n",
      "16.73\n",
      "6.43\n",
      "684.94\n",
      "188176\n",
      "412910\n",
      "330214\n",
      "7513201\n",
      "2153456\n"
     ]
    }
   ],
   "source": [
    "client.health()"
   ]
  },
  {
   "cell_type": "code",
   "execution_count": 13,
   "metadata": {},
   "outputs": [],
   "source": [
    "# Instantiate the WriteAPI and QueryAPI\n",
    "write_api = client.write_api()\n",
    "query_api = client.query_api()"
   ]
  },
  {
   "cell_type": "code",
   "execution_count": 27,
   "metadata": {},
   "outputs": [
    {
     "name": "stdout",
     "output_type": "stream",
     "text": [
      "[25.01, 33.12, 10.75, 6.3, 38.99, 7.12, 2.15, 33.85, 28.54, 0.58, 13.1, 5.74, 34.24, 25.65, 5.11, 21.51, 12.26, 23.2, 18.93, 19.79, 17.75, 30.43, 32.45, 10.28, 14.6, 20.87, 31.57, 38.76, 6.11, 32.48, 34.71, 29.88, 28.85, 20.02, 15.93, 35.87, 37.9, 33.35, 5.95, 15.58, 31.27, 26.22, 1.03, 21.37, 34.31, 25.09, 19.81, 29.75, 33.56, 5.33, 12.67, 26.09, 18.31, 35.52, 6.76, 20.73, 31.8, 1.73, 34.58, 8.08, 32.59, 27.54, 36.05, 17.04, 28.36, 11.02, 34.39, 26.77, 20.06, 23.55, 18.01, 39.05, 3.23, 15.49, 6.58, 34.59, 11.12, 21.77, 39.24, 3.55, 32.13, 10.94, 2.16, 23.48, 30.7, 13.45, 33.67, 21.63, 26.34, 21.92, 22.06, 39.18, 15.82, 38.92, 39.64, 3.89, 26.58, 3.04, 32.95, 33.27] [22.42, 23.29, 27.02, 17.56, 13.02, 20.94, 36.44, 36.11, 35.44, 19.7, 30.72, 35.49, 0.09, 32.65, 10.44, 5.84, 23.27, 10.03, 29.08, 7.47, 31.99, 34.93, 29.69, 35.49, 12.97, 10.19, 20.85, 7.86, 37.04, 16.0, 38.62, 22.2, 12.39, 8.97, 33.24, 28.45, 35.62, 3.73, 39.95, 25.91, 19.82, 7.62, 39.17, 7.31, 2.99, 1.17, 18.79, 2.47, 1.81, 33.63, 37.85, 20.13, 28.56, 15.49, 30.06, 17.16, 10.26, 35.55, 31.72, 8.6, 22.87, 35.35, 27.05, 26.28, 9.96, 3.8, 9.32, 2.07, 13.43, 16.71, 35.82, 22.98, 12.72, 21.75, 38.49, 0.19, 39.08, 32.68, 38.36, 14.58, 5.79, 35.77, 36.3, 30.38, 19.83, 3.65, 15.42, 12.64, 27.54, 20.25, 7.24, 0.98, 29.71, 9.04, 35.61, 32.96, 7.98, 31.58, 25.98, 25.42]\n"
     ]
    }
   ],
   "source": [
    "import random\n",
    "n = 100\n",
    "\n",
    "rHumValues = [round(random.uniform(0., 40.), 2) for _ in range(n)]\n",
    "rTempValues = [round(random.uniform(0., 40.), 2) for _ in range(n)]\n",
    "\n",
    "print(rHumValues, rTempValues)"
   ]
  },
  {
   "cell_type": "code",
   "execution_count": 30,
   "metadata": {},
   "outputs": [],
   "source": [
    "import time\n",
    "\n",
    "# Create and write the point\n",
    "# p1 = Point(\"tempValue\").tag(\"user\", \"olestole\").field(\"value\", 21.34) # field = humidity or temp\n",
    "# p2 = Point(\"humValue\").tag(\"user\", \"olestole\").field(\"value\", 31.34) # field = humidity or temp\n",
    "# write_api.write(bucket=bucket,org=org,record=p1)\n",
    "# write_api.write(bucket=bucket,org=org,record=p2)\n",
    "\n",
    "for i in range(n):\n",
    "    p1 = Point(\"tempValue\").tag(\"user\", \"olestole\").field(\"value\", rTempValues[i])\n",
    "    p2 = Point(\"humValue\").tag(\"user\", \"olestole\").field(\"value\", rHumValues[i])\n",
    "    write_api.write(bucket=bucket,org=org,record=p1)\n",
    "    write_api.write(bucket=bucket,org=org,record=p2)\n",
    "    time.sleep(0.5)"
   ]
  },
  {
   "cell_type": "code",
   "execution_count": 29,
   "metadata": {},
   "outputs": [
    {
     "name": "stdout",
     "output_type": "stream",
     "text": [
      "[(12.34, 'value'), (31.34, 'value'), (31.34, 'value'), (31.34, 'value'), (33.27, 'value'), (12.34, 'value'), (21.34, 'value'), (21.34, 'value'), (21.34, 'value'), (25.42, 'value')]\n"
     ]
    }
   ],
   "source": [
    "query1 = f'from(bucket: \"{bucket}\")\\\n",
    "|> range(start: -10m)\\\n",
    "|> filter(fn: (r) => r._measurement == \"tempValue\")\\\n",
    "|> filter(fn: (r) => r._field == \"value\")\\\n",
    "|> aggregateWindow(10m, fn: mean))'\n",
    "\n",
    "query2 = f'from(bucket: \"{bucket}\")\\\n",
    "|> range(start: -10m)'\n",
    "\n",
    "# Return the table and print the result - NOT needed for the exercise\n",
    "result = client.query_api().query(org=org, query=query2)\n",
    "results = []\n",
    "for table in result:\n",
    "    for record in table.records:\n",
    "        results.append((record.get_value(), record.get_field()))\n",
    "print(results)"
   ]
  },
  {
   "cell_type": "code",
   "execution_count": null,
   "metadata": {},
   "outputs": [],
   "source": []
  }
 ],
 "metadata": {
  "interpreter": {
   "hash": "e0ea54e9107f9569a88630d98787f2938ccf4de15e3fd4bc169287615dda56ef"
  },
  "kernelspec": {
   "display_name": "Python 3.7.9 ('venv': venv)",
   "language": "python",
   "name": "python3"
  },
  "language_info": {
   "codemirror_mode": {
    "name": "ipython",
    "version": 3
   },
   "file_extension": ".py",
   "mimetype": "text/x-python",
   "name": "python",
   "nbconvert_exporter": "python",
   "pygments_lexer": "ipython3",
   "version": "3.7.9"
  },
  "orig_nbformat": 4
 },
 "nbformat": 4,
 "nbformat_minor": 2
}
