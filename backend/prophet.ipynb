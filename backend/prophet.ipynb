{
 "cells": [
  {
   "cell_type": "code",
   "execution_count": 1,
   "metadata": {},
   "outputs": [
    {
     "name": "stderr",
     "output_type": "stream",
     "text": [
      "/Users/olestole/code/unibo/iot/air-quality-monitoring/backend/venv/lib/python3.7/site-packages/tqdm/auto.py:22: TqdmWarning: IProgress not found. Please update jupyter and ipywidgets. See https://ipywidgets.readthedocs.io/en/stable/user_install.html\n",
      "  from .autonotebook import tqdm as notebook_tqdm\n",
      "Importing plotly failed. Interactive plots will not work.\n"
     ]
    }
   ],
   "source": [
    "import time\n",
    "from datetime import datetime\n",
    "import pandas as pd\n",
    "from prophet import Prophet"
   ]
  },
  {
   "cell_type": "code",
   "execution_count": 2,
   "metadata": {},
   "outputs": [],
   "source": [
    "from influxdb_client import InfluxDBClient, Point\n",
    "from influxdb_client.client.write_api import SYNCHRONOUS\n",
    "\n",
    "org = \"olestole\"\n",
    "bucket = \"air-quality\"\n",
    "token = \"5_QgBT2jmMvNwnz9Ajet8_bAmeV_eXACmx3wJ-ATJ5oYnJLmHOeU5hA_9uwsYnF7Tm3no-iCCU1e0ipFLFKwrg==\"\n",
    "host = \"18.170.70.157\"\n",
    "port = \"8086\"\n",
    "url = f\"http://{host}:{port}\"\n",
    "\n",
    "client = InfluxDBClient(url=url, token=token, org=org)\n",
    "query_api = client.query_api()\n",
    "write_api = client.write_api(write_options=SYNCHRONOUS)"
   ]
  },
  {
   "cell_type": "code",
   "execution_count": 3,
   "metadata": {},
   "outputs": [
    {
     "data": {
      "text/plain": [
       "{'checks': [],\n",
       " 'commit': 'a2f8538837',\n",
       " 'message': 'ready for queries and writes',\n",
       " 'name': 'influxdb',\n",
       " 'status': 'pass',\n",
       " 'version': 'v2.2.0'}"
      ]
     },
     "execution_count": 3,
     "metadata": {},
     "output_type": "execute_result"
    }
   ],
   "source": [
    "client.health()"
   ]
  },
  {
   "cell_type": "code",
   "execution_count": 98,
   "metadata": {},
   "outputs": [],
   "source": [
    "query = 'from(bucket:\"air-quality\")' \\\n",
    "        ' |> range(start:-24h)'\\\n",
    "        ' |> filter(fn: (r) => r[\"_measurement\"] == \"hum\")' \\\n",
    "        ' |> filter(fn: (r) => r[\"_value\"] != 0)' \\\n",
    "        ' |> aggregateWindow(every: 1m, fn: mean, createEmpty: false)'"
   ]
  },
  {
   "cell_type": "code",
   "execution_count": 99,
   "metadata": {},
   "outputs": [],
   "source": [
    "result = client.query_api().query(org=org, query=query)"
   ]
  },
  {
   "cell_type": "code",
   "execution_count": 100,
   "metadata": {},
   "outputs": [
    {
     "name": "stdout",
     "output_type": "stream",
     "text": [
      "[(44.26470588235294, datetime.datetime(2022, 5, 19, 9, 43, tzinfo=tzutc())), (44.26249975000001, datetime.datetime(2022, 5, 19, 9, 44, tzinfo=tzutc())), (43.60769207692307, datetime.datetime(2022, 5, 19, 10, 9, tzinfo=tzutc())), (43.62758555172414, datetime.datetime(2022, 5, 19, 10, 10, tzinfo=tzutc())), (43.386666766666686, datetime.datetime(2022, 5, 19, 10, 11, tzinfo=tzutc()))]\n"
     ]
    }
   ],
   "source": [
    "raw = []\n",
    "for table in result:\n",
    "    for record in table.records:\n",
    "        raw.append((record.get_value(), record.get_time()))\n",
    "print(raw[0:5])"
   ]
  },
  {
   "cell_type": "code",
   "execution_count": 101,
   "metadata": {},
   "outputs": [
    {
     "name": "stdout",
     "output_type": "stream",
     "text": [
      "\n",
      "=== influxdb query into dataframe ===\n",
      "\n"
     ]
    },
    {
     "data": {
      "text/html": [
       "<div>\n",
       "<style scoped>\n",
       "    .dataframe tbody tr th:only-of-type {\n",
       "        vertical-align: middle;\n",
       "    }\n",
       "\n",
       "    .dataframe tbody tr th {\n",
       "        vertical-align: top;\n",
       "    }\n",
       "\n",
       "    .dataframe thead th {\n",
       "        text-align: right;\n",
       "    }\n",
       "</style>\n",
       "<table border=\"1\" class=\"dataframe\">\n",
       "  <thead>\n",
       "    <tr style=\"text-align: right;\">\n",
       "      <th></th>\n",
       "      <th>y</th>\n",
       "      <th>ds</th>\n",
       "    </tr>\n",
       "  </thead>\n",
       "  <tbody>\n",
       "    <tr>\n",
       "      <th>0</th>\n",
       "      <td>44.264706</td>\n",
       "      <td>2022-05-19 09:43:00</td>\n",
       "    </tr>\n",
       "    <tr>\n",
       "      <th>1</th>\n",
       "      <td>44.262500</td>\n",
       "      <td>2022-05-19 09:44:00</td>\n",
       "    </tr>\n",
       "    <tr>\n",
       "      <th>2</th>\n",
       "      <td>43.607692</td>\n",
       "      <td>2022-05-19 10:09:00</td>\n",
       "    </tr>\n",
       "    <tr>\n",
       "      <th>3</th>\n",
       "      <td>43.627586</td>\n",
       "      <td>2022-05-19 10:10:00</td>\n",
       "    </tr>\n",
       "    <tr>\n",
       "      <th>4</th>\n",
       "      <td>43.386667</td>\n",
       "      <td>2022-05-19 10:11:00</td>\n",
       "    </tr>\n",
       "  </tbody>\n",
       "</table>\n",
       "</div>"
      ],
      "text/plain": [
       "           y                  ds\n",
       "0  44.264706 2022-05-19 09:43:00\n",
       "1  44.262500 2022-05-19 09:44:00\n",
       "2  43.607692 2022-05-19 10:09:00\n",
       "3  43.627586 2022-05-19 10:10:00\n",
       "4  43.386667 2022-05-19 10:11:00"
      ]
     },
     "execution_count": 101,
     "metadata": {},
     "output_type": "execute_result"
    }
   ],
   "source": [
    "print(\"\\n=== influxdb query into dataframe ===\\n\")\n",
    "df=pd.DataFrame(raw, columns=['y','ds'], index=None)\n",
    "df['ds'] = df['ds'].values.astype('<M8[s]')\n",
    "df.set_index('ds')\n",
    "df.head()"
   ]
  },
  {
   "cell_type": "code",
   "execution_count": 102,
   "metadata": {},
   "outputs": [],
   "source": [
    "df['y'] = df['y'].apply(lambda x: round(x, 2))"
   ]
  },
  {
   "cell_type": "code",
   "execution_count": 103,
   "metadata": {},
   "outputs": [
    {
     "data": {
      "text/html": [
       "<div>\n",
       "<style scoped>\n",
       "    .dataframe tbody tr th:only-of-type {\n",
       "        vertical-align: middle;\n",
       "    }\n",
       "\n",
       "    .dataframe tbody tr th {\n",
       "        vertical-align: top;\n",
       "    }\n",
       "\n",
       "    .dataframe thead th {\n",
       "        text-align: right;\n",
       "    }\n",
       "</style>\n",
       "<table border=\"1\" class=\"dataframe\">\n",
       "  <thead>\n",
       "    <tr style=\"text-align: right;\">\n",
       "      <th></th>\n",
       "      <th>y</th>\n",
       "      <th>ds</th>\n",
       "    </tr>\n",
       "  </thead>\n",
       "  <tbody>\n",
       "    <tr>\n",
       "      <th>0</th>\n",
       "      <td>44.26</td>\n",
       "      <td>2022-05-19 09:43:00</td>\n",
       "    </tr>\n",
       "    <tr>\n",
       "      <th>1</th>\n",
       "      <td>44.26</td>\n",
       "      <td>2022-05-19 09:44:00</td>\n",
       "    </tr>\n",
       "    <tr>\n",
       "      <th>2</th>\n",
       "      <td>43.61</td>\n",
       "      <td>2022-05-19 10:09:00</td>\n",
       "    </tr>\n",
       "    <tr>\n",
       "      <th>3</th>\n",
       "      <td>43.63</td>\n",
       "      <td>2022-05-19 10:10:00</td>\n",
       "    </tr>\n",
       "    <tr>\n",
       "      <th>4</th>\n",
       "      <td>43.39</td>\n",
       "      <td>2022-05-19 10:11:00</td>\n",
       "    </tr>\n",
       "  </tbody>\n",
       "</table>\n",
       "</div>"
      ],
      "text/plain": [
       "       y                  ds\n",
       "0  44.26 2022-05-19 09:43:00\n",
       "1  44.26 2022-05-19 09:44:00\n",
       "2  43.61 2022-05-19 10:09:00\n",
       "3  43.63 2022-05-19 10:10:00\n",
       "4  43.39 2022-05-19 10:11:00"
      ]
     },
     "execution_count": 103,
     "metadata": {},
     "output_type": "execute_result"
    }
   ],
   "source": [
    "df.head()"
   ]
  },
  {
   "cell_type": "code",
   "execution_count": 104,
   "metadata": {},
   "outputs": [
    {
     "name": "stderr",
     "output_type": "stream",
     "text": [
      "INFO:prophet:Disabling yearly seasonality. Run prophet with yearly_seasonality=True to override this.\n",
      "INFO:prophet:Disabling weekly seasonality. Run prophet with weekly_seasonality=True to override this.\n",
      "INFO:prophet:Disabling daily seasonality. Run prophet with daily_seasonality=True to override this.\n"
     ]
    },
    {
     "name": "stdout",
     "output_type": "stream",
     "text": [
      "Initial log joint probability = -4.16482\n"
     ]
    },
    {
     "data": {
      "text/plain": [
       "<prophet.forecaster.Prophet at 0x12289d590>"
      ]
     },
     "execution_count": 104,
     "metadata": {},
     "output_type": "execute_result"
    },
    {
     "name": "stdout",
     "output_type": "stream",
     "text": [
      "    Iter      log prob        ||dx||      ||grad||       alpha      alpha0  # evals  Notes \n",
      "      99       2684.62     0.0614071       1933.65           1           1      123   \n",
      "    Iter      log prob        ||dx||      ||grad||       alpha      alpha0  # evals  Notes \n",
      "     199        2760.9     0.0187608       350.838      0.5418     0.05418      257   \n",
      "    Iter      log prob        ||dx||      ||grad||       alpha      alpha0  # evals  Notes \n",
      "     299       2793.24    0.00150636       205.965      0.9014      0.9014      388   \n",
      "    Iter      log prob        ||dx||      ||grad||       alpha      alpha0  # evals  Notes \n",
      "     342       2798.25   2.65973e-05       96.4618   1.236e-07       0.001      494  LS failed, Hessian reset \n",
      "     399       2799.65    0.00175252       74.6266           1           1      574   \n",
      "    Iter      log prob        ||dx||      ||grad||       alpha      alpha0  # evals  Notes \n",
      "     499       2803.99   0.000315701       232.798      0.6214      0.6214      705   \n",
      "    Iter      log prob        ||dx||      ||grad||       alpha      alpha0  # evals  Notes \n",
      "     572       2805.38   0.000153143       238.776   1.896e-06       0.001      838  LS failed, Hessian reset \n",
      "     599       2805.59   0.000172757       101.953           1           1      873   \n",
      "    Iter      log prob        ||dx||      ||grad||       alpha      alpha0  # evals  Notes \n",
      "     607       2805.63   1.38834e-05        51.761   1.149e-07       0.001      924  LS failed, Hessian reset \n",
      "     699       2806.93    0.00119445       103.372           1           1     1041   \n",
      "    Iter      log prob        ||dx||      ||grad||       alpha      alpha0  # evals  Notes \n",
      "     790       2810.36   0.000178832       485.131   1.015e-06       0.001     1202  LS failed, Hessian reset \n",
      "     799       2810.59   0.000349255       92.2563      0.7832       0.121     1216   \n",
      "    Iter      log prob        ||dx||      ||grad||       alpha      alpha0  # evals  Notes \n",
      "     800       2810.59   1.32713e-05       65.2349   1.439e-07       0.001     1251  LS failed, Hessian reset \n",
      "     899       2813.34    0.00330526       173.129      0.3347           1     1378   \n",
      "    Iter      log prob        ||dx||      ||grad||       alpha      alpha0  # evals  Notes \n",
      "     953        2813.7   3.24743e-05       156.827    1.43e-07       0.001     1506  LS failed, Hessian reset \n",
      "     999       2813.86   0.000151514       74.5826      0.3131      0.3131     1565   \n",
      "    Iter      log prob        ||dx||      ||grad||       alpha      alpha0  # evals  Notes \n",
      "    1092       2814.09   2.05949e-05       56.1837   1.015e-07       0.001     1732  LS failed, Hessian reset \n",
      "    1099       2814.11   1.71612e-05        51.161     0.06748           1     1744   \n",
      "    Iter      log prob        ||dx||      ||grad||       alpha      alpha0  # evals  Notes \n",
      "    1199       2814.37   0.000409034        116.82           1           1     1878   \n",
      "    Iter      log prob        ||dx||      ||grad||       alpha      alpha0  # evals  Notes \n",
      "    1217       2815.03    4.3185e-05       134.859   1.028e-07       0.001     1955  LS failed, Hessian reset \n",
      "    1244       2815.97   1.24293e-05       59.3792   1.272e-07       0.001     2035  LS failed, Hessian reset \n",
      "    1273       2816.19   5.56363e-05       241.834   1.201e-07       0.001     2119  LS failed, Hessian reset \n",
      "    1299       2816.34   4.84483e-06       73.3702      0.1302     0.01302     2156   \n",
      "    Iter      log prob        ||dx||      ||grad||       alpha      alpha0  # evals  Notes \n",
      "    1399       2816.46     4.463e-05        75.434           1           1     2279   \n",
      "    Iter      log prob        ||dx||      ||grad||       alpha      alpha0  # evals  Notes \n",
      "    1429       2816.84   2.69414e-05       126.038   1.273e-07       0.001     2363  LS failed, Hessian reset \n",
      "    1499       2817.13   3.14237e-07       56.9851      0.6338           1     2469   \n",
      "Optimization terminated normally: \n",
      "  Convergence detected: relative gradient magnitude is below tolerance\n"
     ]
    }
   ],
   "source": [
    "m = Prophet()\n",
    "m.fit(df)"
   ]
  },
  {
   "cell_type": "code",
   "execution_count": 105,
   "metadata": {},
   "outputs": [
    {
     "data": {
      "text/html": [
       "<div>\n",
       "<style scoped>\n",
       "    .dataframe tbody tr th:only-of-type {\n",
       "        vertical-align: middle;\n",
       "    }\n",
       "\n",
       "    .dataframe tbody tr th {\n",
       "        vertical-align: top;\n",
       "    }\n",
       "\n",
       "    .dataframe thead th {\n",
       "        text-align: right;\n",
       "    }\n",
       "</style>\n",
       "<table border=\"1\" class=\"dataframe\">\n",
       "  <thead>\n",
       "    <tr style=\"text-align: right;\">\n",
       "      <th></th>\n",
       "      <th>ds</th>\n",
       "    </tr>\n",
       "  </thead>\n",
       "  <tbody>\n",
       "    <tr>\n",
       "      <th>600</th>\n",
       "      <td>2022-05-20 03:31:00</td>\n",
       "    </tr>\n",
       "    <tr>\n",
       "      <th>601</th>\n",
       "      <td>2022-05-20 03:32:00</td>\n",
       "    </tr>\n",
       "    <tr>\n",
       "      <th>602</th>\n",
       "      <td>2022-05-20 03:33:00</td>\n",
       "    </tr>\n",
       "    <tr>\n",
       "      <th>603</th>\n",
       "      <td>2022-05-20 03:34:00</td>\n",
       "    </tr>\n",
       "    <tr>\n",
       "      <th>604</th>\n",
       "      <td>2022-05-20 03:35:00</td>\n",
       "    </tr>\n",
       "    <tr>\n",
       "      <th>...</th>\n",
       "      <td>...</td>\n",
       "    </tr>\n",
       "    <tr>\n",
       "      <th>916</th>\n",
       "      <td>2022-05-20 19:31:00</td>\n",
       "    </tr>\n",
       "    <tr>\n",
       "      <th>917</th>\n",
       "      <td>2022-05-20 19:46:00</td>\n",
       "    </tr>\n",
       "    <tr>\n",
       "      <th>918</th>\n",
       "      <td>2022-05-20 20:01:00</td>\n",
       "    </tr>\n",
       "    <tr>\n",
       "      <th>919</th>\n",
       "      <td>2022-05-20 20:16:00</td>\n",
       "    </tr>\n",
       "    <tr>\n",
       "      <th>920</th>\n",
       "      <td>2022-05-20 20:31:00</td>\n",
       "    </tr>\n",
       "  </tbody>\n",
       "</table>\n",
       "<p>321 rows × 1 columns</p>\n",
       "</div>"
      ],
      "text/plain": [
       "                     ds\n",
       "600 2022-05-20 03:31:00\n",
       "601 2022-05-20 03:32:00\n",
       "602 2022-05-20 03:33:00\n",
       "603 2022-05-20 03:34:00\n",
       "604 2022-05-20 03:35:00\n",
       "..                  ...\n",
       "916 2022-05-20 19:31:00\n",
       "917 2022-05-20 19:46:00\n",
       "918 2022-05-20 20:01:00\n",
       "919 2022-05-20 20:16:00\n",
       "920 2022-05-20 20:31:00\n",
       "\n",
       "[321 rows x 1 columns]"
      ]
     },
     "execution_count": 105,
     "metadata": {},
     "output_type": "execute_result"
    }
   ],
   "source": [
    "future = m.make_future_dataframe(periods=50, freq='15T')\n",
    "future[600:]"
   ]
  },
  {
   "cell_type": "code",
   "execution_count": 106,
   "metadata": {},
   "outputs": [
    {
     "data": {
      "text/html": [
       "<div>\n",
       "<style scoped>\n",
       "    .dataframe tbody tr th:only-of-type {\n",
       "        vertical-align: middle;\n",
       "    }\n",
       "\n",
       "    .dataframe tbody tr th {\n",
       "        vertical-align: top;\n",
       "    }\n",
       "\n",
       "    .dataframe thead th {\n",
       "        text-align: right;\n",
       "    }\n",
       "</style>\n",
       "<table border=\"1\" class=\"dataframe\">\n",
       "  <thead>\n",
       "    <tr style=\"text-align: right;\">\n",
       "      <th></th>\n",
       "      <th>ds</th>\n",
       "      <th>yhat</th>\n",
       "      <th>yhat_lower</th>\n",
       "      <th>yhat_upper</th>\n",
       "    </tr>\n",
       "  </thead>\n",
       "  <tbody>\n",
       "    <tr>\n",
       "      <th>916</th>\n",
       "      <td>2022-05-20 19:31:00</td>\n",
       "      <td>63.731350</td>\n",
       "      <td>18.212545</td>\n",
       "      <td>109.328271</td>\n",
       "    </tr>\n",
       "    <tr>\n",
       "      <th>917</th>\n",
       "      <td>2022-05-20 19:46:00</td>\n",
       "      <td>63.871078</td>\n",
       "      <td>16.774197</td>\n",
       "      <td>111.936667</td>\n",
       "    </tr>\n",
       "    <tr>\n",
       "      <th>918</th>\n",
       "      <td>2022-05-20 20:01:00</td>\n",
       "      <td>64.010806</td>\n",
       "      <td>15.022214</td>\n",
       "      <td>113.343213</td>\n",
       "    </tr>\n",
       "    <tr>\n",
       "      <th>919</th>\n",
       "      <td>2022-05-20 20:16:00</td>\n",
       "      <td>64.150533</td>\n",
       "      <td>13.572024</td>\n",
       "      <td>115.131221</td>\n",
       "    </tr>\n",
       "    <tr>\n",
       "      <th>920</th>\n",
       "      <td>2022-05-20 20:31:00</td>\n",
       "      <td>64.290261</td>\n",
       "      <td>11.923875</td>\n",
       "      <td>116.979358</td>\n",
       "    </tr>\n",
       "  </tbody>\n",
       "</table>\n",
       "</div>"
      ],
      "text/plain": [
       "                     ds       yhat  yhat_lower  yhat_upper\n",
       "916 2022-05-20 19:31:00  63.731350   18.212545  109.328271\n",
       "917 2022-05-20 19:46:00  63.871078   16.774197  111.936667\n",
       "918 2022-05-20 20:01:00  64.010806   15.022214  113.343213\n",
       "919 2022-05-20 20:16:00  64.150533   13.572024  115.131221\n",
       "920 2022-05-20 20:31:00  64.290261   11.923875  116.979358"
      ]
     },
     "execution_count": 106,
     "metadata": {},
     "output_type": "execute_result"
    }
   ],
   "source": [
    "forecast = m.predict(future)\n",
    "forecast[['ds', 'yhat', 'yhat_lower', 'yhat_upper']].tail()"
   ]
  },
  {
   "cell_type": "code",
   "execution_count": 107,
   "metadata": {},
   "outputs": [
    {
     "data": {
      "image/png": "[encoded data removed]",
      "text/plain": [
       "<Figure size 720x432 with 1 Axes>"
      ]
     },
     "metadata": {},
     "output_type": "display_data"
    }
   ],
   "source": [
    "fig1 = m.plot(forecast)"
   ]
  },
  {
   "cell_type": "code",
   "execution_count": 108,
   "metadata": {},
   "outputs": [
    {
     "data": {
      "image/png": "[encoded data removed]",
      "text/plain": [
       "<Figure size 648x216 with 1 Axes>"
      ]
     },
     "metadata": {},
     "output_type": "display_data"
    }
   ],
   "source": [
    "fig2 = m.plot_components(forecast)\n"
   ]
  },
  {
   "cell_type": "code",
   "execution_count": 109,
   "metadata": {},
   "outputs": [],
   "source": [
    "forecast['measurement'] = \"hum\""
   ]
  },
  {
   "cell_type": "code",
   "execution_count": 110,
   "metadata": {},
   "outputs": [],
   "source": [
    "cp = forecast[['ds', 'yhat', 'yhat_lower', 'yhat_upper','measurement']].copy()\n",
    "lines = [str(cp[\"measurement\"][d]) \n",
    "         + \",type=forecast\" \n",
    "         + \" \" \n",
    "         + \"yhat=\" + str(cp[\"yhat\"][d]) + \",\"\n",
    "         + \"yhat_lower=\" + str(cp[\"yhat_lower\"][d]) + \",\"\n",
    "         + \"yhat_upper=\" + str(cp[\"yhat_upper\"][d])\n",
    "         + \" \" + str(int(time.mktime(cp['ds'][d].timetuple()))) + \"000000000\" for d in range(len(cp))]"
   ]
  },
  {
   "cell_type": "code",
   "execution_count": null,
   "metadata": {},
   "outputs": [],
   "source": [
    "lines"
   ]
  }
 ],
 "metadata": {
  "interpreter": {
   "hash": "e0ea54e9107f9569a88630d98787f2938ccf4de15e3fd4bc169287615dda56ef"
  },
  "kernelspec": {
   "display_name": "Python 3.7.9 ('venv': venv)",
   "language": "python",
   "name": "python3"
  },
  "language_info": {
   "codemirror_mode": {
    "name": "ipython",
    "version": 3
   },
   "file_extension": ".py",
   "mimetype": "text/x-python",
   "name": "python",
   "nbconvert_exporter": "python",
   "pygments_lexer": "ipython3",
   "version": "3.7.9"
  },
  "orig_nbformat": 4
 },
 "nbformat": 4,
 "nbformat_minor": 2
}
